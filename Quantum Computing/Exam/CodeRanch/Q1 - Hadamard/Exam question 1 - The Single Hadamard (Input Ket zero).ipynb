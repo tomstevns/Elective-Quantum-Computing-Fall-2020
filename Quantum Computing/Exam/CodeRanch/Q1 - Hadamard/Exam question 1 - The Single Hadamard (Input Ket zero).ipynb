{
 "cells": [
  {
   "cell_type": "code",
   "execution_count": 1,
   "metadata": {},
   "outputs": [],
   "source": [
    "# Full import of Qiskit library\n",
    "from qiskit import *"
   ]
  },
  {
   "cell_type": "code",
   "execution_count": 2,
   "metadata": {},
   "outputs": [],
   "source": [
    "try:\n",
    "    # Create a Quantum Register with 1 Qubits.\n",
    "    qr = QuantumRegister(1)\n",
    "\n",
    "    # Create a classical register with 1 bits\n",
    "    cr = ClassicalRegister(1)\n",
    "\n",
    "    # Create a Quantum Circuit containing our QR and CR. \n",
    "    circuit = QuantumCircuit(qr,cr)\n",
    "\n",
    "    # Prepare the method to draw our quantum program\n",
    "    circuit.draw();\n",
    "\n",
    "except NameError:\n",
    "    print(\"ERROR: There is either an error in your code - or you have not run the library import block above correctly\\n\"*10)"
   ]
  },
  {
   "cell_type": "code",
   "execution_count": 3,
   "metadata": {},
   "outputs": [],
   "source": [
    "# Adding a single [X]-gate to the Quantum register will change the value from Ket [0> to [1>\n",
    "#circuit.x(qr[0])\n",
    "\n",
    "# Adding a single [H]-gate to one of the two Quantum Registers\n",
    "#TODO: ⚠️⚠️⚠️⚠️⚠️ Add a [H]-gate here (Tip: Looks like the [x]-gate we added before⚠️⚠️⚠️⚠️⚠️\n",
    "circuit.h(qr[0])\n",
    "\n",
    "# Adding a barrier for visualizing purposes\n",
    "circuit.barrier()\n",
    "\n",
    "# Prepare the method to draw our quantum program\n",
    "circuit.draw();\n",
    "\n",
    "\n",
    "# Adding a barrier for visualizing purposes\n",
    "circuit.barrier()\n",
    "\n",
    "\n",
    "# Adding the measurement operation to all Quantum Registers\n",
    "circuit.measure(qr, cr);"
   ]
  },
  {
   "cell_type": "code",
   "execution_count": 4,
   "metadata": {},
   "outputs": [
    {
     "data": {
      "image/png": "[encoded data removed]",
      "text/plain": [
       "<Figure size 361.2x138.46 with 1 Axes>"
      ]
     },
     "execution_count": 4,
     "metadata": {},
     "output_type": "execute_result"
    }
   ],
   "source": [
    "circuit.draw(output='mpl')"
   ]
  },
  {
   "cell_type": "code",
   "execution_count": 5,
   "metadata": {},
   "outputs": [
    {
     "name": "stdout",
     "output_type": "stream",
     "text": [
      "{'0': 2064, '1': 2032}\n"
     ]
    }
   ],
   "source": [
    "# We load the backend to run our Quantum Program, as we did in the last example\n",
    "backend = BasicAer.get_backend('qasm_simulator')\n",
    "\n",
    "# We execute the Quantum Programwe, but have added \"shots=4096, memory=True\" to the execute() function. \n",
    "job = qiskit.execute(circuit, backend, shots=4096, memory=True)\n",
    "\n",
    "# Get the results from the job\n",
    "result = job.result().get_counts(circuit)\n",
    "\n",
    "# A quick print out of our result\n",
    "print(result)"
   ]
  },
  {
   "cell_type": "code",
   "execution_count": 6,
   "metadata": {},
   "outputs": [
    {
     "data": {
      "image/png": "[encoded data removed]",
      "text/plain": [
       "<Figure size 504x360 with 1 Axes>"
      ]
     },
     "execution_count": 6,
     "metadata": {},
     "output_type": "execute_result"
    }
   ],
   "source": [
    "from qiskit.tools.visualization import plot_histogram\n",
    "\n",
    "plot_histogram(result)"
   ]
  },
  {
   "cell_type": "code",
   "execution_count": null,
   "metadata": {},
   "outputs": [],
   "source": []
  },
  {
   "cell_type": "code",
   "execution_count": null,
   "metadata": {},
   "outputs": [],
   "source": []
  },
  {
   "cell_type": "code",
   "execution_count": null,
   "metadata": {},
   "outputs": [],
   "source": []
  }
 ],
 "metadata": {
  "kernelspec": {
   "display_name": "Python 3",
   "language": "python",
   "name": "python3"
  },
  "language_info": {
   "codemirror_mode": {
    "name": "ipython",
    "version": 3
   },
   "file_extension": ".py",
   "mimetype": "text/x-python",
   "name": "python",
   "nbconvert_exporter": "python",
   "pygments_lexer": "ipython3",
   "version": "3.6.3"
  }
 },
 "nbformat": 4,
 "nbformat_minor": 2
}
