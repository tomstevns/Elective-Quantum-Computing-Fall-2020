{
 "cells": [
  {
   "cell_type": "code",
   "execution_count": 1,
   "metadata": {},
   "outputs": [],
   "source": [
    "# Full import of Qiskit library\n",
    "from qiskit import *"
   ]
  },
  {
   "cell_type": "code",
   "execution_count": 2,
   "metadata": {},
   "outputs": [],
   "source": [
    "try:\n",
    "    # Opret et Quantum Register med 1 Qubit.\n",
    "    qr = QuantumRegister(1)\n",
    "\n",
    "    # Opret et classical register med 1 bit\n",
    "    cr = ClassicalRegister(1)\n",
    "\n",
    "    # Opret en Quantum Circuit som indeholder vores ovenstående  qr and cr. \n",
    "    circuit = QuantumCircuit(qr,cr)\n",
    "\n",
    "    #Forbered metoden til på et senere tidspunkt at kunne tegne vores quantum program\n",
    "    circuit.draw();\n",
    "\n",
    "except NameError:\n",
    "    print(\"ERROR: There is either an error in your code - or you have not run the library import block above correctly\\n\"*10)"
   ]
  },
  {
   "cell_type": "code",
   "execution_count": 3,
   "metadata": {},
   "outputs": [],
   "source": [
    "#Tilføj en enkelt [H]-gate til vores qubit qr\n",
    "circuit.h(qr[0])\n",
    "\n",
    "# Tilføj en barriere som kan tydeligøre vores formål med at vise hvor Hadamard gaten benyttes\n",
    "circuit.barrier()\n",
    "\n",
    "#Forbered metoden til på et senere tidspunkt at kunne tegne vores quantum program\n",
    "circuit.draw();\n",
    "\n",
    "#Tilføj endnu en enkelt [H]-gate til vores qubit qr\n",
    "#circuit.h(qr[0])\n",
    "\n",
    "# Tilføj en barriere som kan tydeligøre vores formål med at vise hvor Hadamard gaten benyttes\n",
    "circuit.barrier()\n",
    "\n",
    "\n",
    "\n",
    "# Tilføj en måle operation kaldet \"measurement operation\" til vore ene Quantum register qr\n",
    "circuit.measure(qr, cr);"
   ]
  },
  {
   "cell_type": "code",
   "execution_count": 4,
   "metadata": {},
   "outputs": [
    {
     "data": {
      "image/png": "[encoded data removed]",
      "text/plain": [
       "<Figure size 361.2x138.46 with 1 Axes>"
      ]
     },
     "execution_count": 4,
     "metadata": {},
     "output_type": "execute_result"
    }
   ],
   "source": [
    "circuit.draw(output='mpl')"
   ]
  },
  {
   "cell_type": "code",
   "execution_count": 5,
   "metadata": {},
   "outputs": [
    {
     "name": "stdout",
     "output_type": "stream",
     "text": [
      "{'0': 7, '1': 3}\n"
     ]
    }
   ],
   "source": [
    "# We load the backend to run our Quantum Program, as we did in the last example\n",
    "backend = BasicAer.get_backend('qasm_simulator')\n",
    "\n",
    "# We execute the Quantum Programwe, but have added \"shots=24, memory=True\" to the execute() function. \n",
    "job = qiskit.execute(circuit, backend, shots=10, memory=True)\n",
    "\n",
    "# Get the results from the job\n",
    "result = job.result().get_counts(circuit)\n",
    "\n",
    "# A quick print out of our result\n",
    "print(result)"
   ]
  },
  {
   "cell_type": "code",
   "execution_count": 6,
   "metadata": {},
   "outputs": [
    {
     "data": {
      "image/png": "[encoded data removed]",
      "text/plain": [
       "<Figure size 504x360 with 1 Axes>"
      ]
     },
     "execution_count": 6,
     "metadata": {},
     "output_type": "execute_result"
    }
   ],
   "source": [
    "from qiskit.tools.visualization import plot_histogram\n",
    "\n",
    "plot_histogram(result)"
   ]
  },
  {
   "cell_type": "code",
   "execution_count": null,
   "metadata": {},
   "outputs": [],
   "source": []
  },
  {
   "cell_type": "code",
   "execution_count": null,
   "metadata": {},
   "outputs": [],
   "source": []
  },
  {
   "cell_type": "code",
   "execution_count": null,
   "metadata": {},
   "outputs": [],
   "source": []
  }
 ],
 "metadata": {
  "kernelspec": {
   "display_name": "Python 3",
   "language": "python",
   "name": "python3"
  },
  "language_info": {
   "codemirror_mode": {
    "name": "ipython",
    "version": 3
   },
   "file_extension": ".py",
   "mimetype": "text/x-python",
   "name": "python",
   "nbconvert_exporter": "python",
   "pygments_lexer": "ipython3",
   "version": "3.6.3"
  }
 },
 "nbformat": 4,
 "nbformat_minor": 2
}
