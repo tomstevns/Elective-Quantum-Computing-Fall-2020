{
 "cells": [
  {
   "cell_type": "code",
   "execution_count": 1,
   "metadata": {},
   "outputs": [],
   "source": [
    "# Full import of Qiskit library\n",
    "from qiskit import *"
   ]
  },
  {
   "cell_type": "code",
   "execution_count": 2,
   "metadata": {},
   "outputs": [],
   "source": [
    "try:\n",
    "    # Create a Quantum Register with 1 Qubits.\n",
    "    qr = QuantumRegister(1)\n",
    "\n",
    "    # Create a classical register with 1 bits\n",
    "    cr = ClassicalRegister(1)\n",
    "\n",
    "    # Create a Quantum Circuit containing our QR and CR. \n",
    "    circuit = QuantumCircuit(qr,cr)\n",
    "\n",
    "    # Prepare the method to draw our quantum program\n",
    "    circuit.draw();\n",
    "\n",
    "except NameError:\n",
    "    print(\"ERROR: There is either an error in your code - or you have not run the library import block above correctly\\n\"*10)"
   ]
  },
  {
   "cell_type": "code",
   "execution_count": 3,
   "metadata": {},
   "outputs": [],
   "source": [
    "# Because qiskit is stupid, qubit will always initialize as |0> so we have to run it through an x-gate to get it as\n",
    "# a |1>\n",
    "circuit.x(qr[0])\n",
    "\n",
    "circuit.barrier()\n",
    "\n",
    "# When we run a qubit through a single Identyti-Gate in |1> then it should always at time of measurement 0 as 100%\n",
    "circuit.i(qr[0])\n",
    "\n",
    "# Prepare the method to draw our quantum program\n",
    "circuit.draw();\n",
    "\n",
    "# Adding the measurement operation to all Quantum Registers\n",
    "circuit.measure(qr, cr);"
   ]
  },
  {
   "cell_type": "code",
   "execution_count": 4,
   "metadata": {},
   "outputs": [
    {
     "data": {
      "image/png": "[encoded data removed]",
      "text/plain": [
       "<Figure size 364.812x144.48 with 1 Axes>"
      ]
     },
     "execution_count": 4,
     "metadata": {},
     "output_type": "execute_result"
    }
   ],
   "source": [
    "circuit.draw(output='mpl')"
   ]
  },
  {
   "cell_type": "code",
   "execution_count": 5,
   "metadata": {},
   "outputs": [
    {
     "name": "stdout",
     "output_type": "stream",
     "text": [
      "{'0': 4096}\n"
     ]
    }
   ],
   "source": [
    "# We load the backend to run our Quantum Program\n",
    "backend = BasicAer.get_backend('qasm_simulator')\n",
    "\n",
    "# We execute the Quantum Programwe, but have added \"shots=4096, memory=True\" to the execute() function. \n",
    "job = qiskit.execute(circuit, backend, shots=4096, memory=True)\n",
    "\n",
    "# Get the results from the job\n",
    "result = job.result().get_counts(circuit)\n",
    "\n",
    "# A quick print out of our result\n",
    "print(result)"
   ]
  },
  {
   "cell_type": "code",
   "execution_count": 6,
   "metadata": {},
   "outputs": [
    {
     "data": {
      "image/png": "[encoded data removed]",
      "text/plain": [
       "<Figure size 504x360 with 1 Axes>"
      ]
     },
     "execution_count": 6,
     "metadata": {},
     "output_type": "execute_result"
    }
   ],
   "source": [
    "from qiskit.tools.visualization import plot_histogram\n",
    "\n",
    "plot_histogram(result)"
   ]
  },
  {
   "cell_type": "code",
   "execution_count": null,
   "metadata": {},
   "outputs": [],
   "source": []
  },
  {
   "cell_type": "code",
   "execution_count": null,
   "metadata": {},
   "outputs": [],
   "source": []
  },
  {
   "cell_type": "code",
   "execution_count": null,
   "metadata": {},
   "outputs": [],
   "source": []
  },
  {
   "cell_type": "code",
   "execution_count": null,
   "metadata": {},
   "outputs": [],
   "source": []
  },
  {
   "cell_type": "code",
   "execution_count": null,
   "metadata": {},
   "outputs": [],
   "source": []
  }
 ],
 "metadata": {
  "kernelspec": {
   "display_name": "Python 3",
   "language": "python",
   "name": "python3"
  },
  "language_info": {
   "codemirror_mode": {
    "name": "ipython",
    "version": 3
   },
   "file_extension": ".py",
   "mimetype": "text/x-python",
   "name": "python",
   "nbconvert_exporter": "python",
   "pygments_lexer": "ipython3",
   "version": "3.6.3"
  }
 },
 "nbformat": 4,
 "nbformat_minor": 2
}
