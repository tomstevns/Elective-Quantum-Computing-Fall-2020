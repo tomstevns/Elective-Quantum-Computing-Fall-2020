{
 "cells": [
  {
   "cell_type": "markdown",
   "metadata": {},
   "source": [
    "<img src=\"https://raw.githubusercontent.com/Qiskit/qiskit-tutorials/master/images/qiskit-heading.png\" alt=\"Note: In order for images to show up in this jupyter notebook you need to select File => Trusted Notebook\" width=\"500 px\" align=\"left\">"
   ]
  },
  {
   "cell_type": "markdown",
   "metadata": {},
   "source": [
    "Welcome Qiskitters to Textbook Quantum Algorithms with Qiskit Terra! Here we have a collection of great tutorials from our fantastic Qiskitters describing some textbook algorithms and showing how to implement them in Qiskit Terra."
   ]
  },
  {
   "cell_type": "markdown",
   "metadata": {},
   "source": [
    "First we start with the oracle based algorithms (an oracle is a \"black box\" operation that is used as input to another algorithm):\n",
    "\n",
    "- [Deutsch-Jozsa](deutsch_jozsa.ipynb) algorithm: determines whether a function is balanced or constant. The algorithm has no practical use, but it is famous for being one of the first examples of a quantum algorithm that is exponentially faster than any deterministic classical algorithm.\n",
    "\n",
    "\n",
    "- [Bernstein-Vazirani](bernstein_vazirani.ipynb) algorithm: recovers the unknown parameter of a particular scalar product function. Like the Deutsch-Jozsa algorithm, it has no practical use and is one of the early examples of quantum speedup.\n",
    "\n",
    "\n",
    "- [Grover's](grover_algorithm.ipynb) algorithm: performs a search over an unordered set of items to find the unique element(s) that satisfies some condition. It is one of the fundamental quantum computing algorithms. "
   ]
  },
  {
   "cell_type": "markdown",
   "metadata": {},
   "source": [
    "Next are algorithms that involve a combination of quantum and classical processing to arrive at the result:\n",
    "\n",
    "- [Simon's](simon_algorithm.ipynb) algorithm: solves Simon's problem - finding a hidden bit vector. It was the inspiration for the more famous Shor's algorithm. \n",
    "\n",
    "\n",
    "- [Shor's](shor_algorithm.ipynb) algorithm: discovers factors of integers. "
   ]
  },
  {
   "cell_type": "markdown",
   "metadata": {},
   "source": [
    "Finally, we have [Iterative Phase Estimation](iterative_phase_estimation_algorithm.ipynb), that determines the unknown eigenvalues of a unitary operator. "
   ]
  },
  {
   "cell_type": "markdown",
   "metadata": {},
   "source": [
    "If you think we've missed any textbook quantum algorithm, please contribute your own tutorial!"
   ]
  },
  {
   "cell_type": "code",
   "execution_count": null,
   "metadata": {},
   "outputs": [],
   "source": []
  }
 ],
 "metadata": {
  "kernelspec": {
   "display_name": "Python 3",
   "language": "python",
   "name": "python3"
  },
  "language_info": {
   "codemirror_mode": {
    "name": "ipython",
    "version": 3
   },
   "file_extension": ".py",
   "mimetype": "text/x-python",
   "name": "python",
   "nbconvert_exporter": "python",
   "pygments_lexer": "ipython3",
   "version": "3.7.2"
  }
 },
 "nbformat": 4,
 "nbformat_minor": 2
}
