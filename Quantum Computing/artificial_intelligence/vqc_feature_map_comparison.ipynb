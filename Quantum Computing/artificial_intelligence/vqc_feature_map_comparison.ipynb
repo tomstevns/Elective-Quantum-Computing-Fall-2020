{
 "cells": [
  {
   "cell_type": "markdown",
   "metadata": {},
   "source": [
    "# Variational Quantum Classifier Feature Map Comparison\n",
    "\n",
    "Both the first-order and second-order expansion feature maps provided by Aqua use $n$ qubits to encode $n$-dim datapoints. However, raw feature vectors can also be directly used in `VQC` circuit constructions, requiring only $log_2(n)$ qubits to encode $n$-dim datapoints. \n",
    "\n",
    "### Experiment\n",
    "Below we compare the classification performance of `VQC` on the [Wine dataset](https://scikit-learn.org/stable/datasets/index.html#wine-dataset) using `RawFeatureVector` and `SecondOrderExpansion` feature maps. As you'll see, the former leads to about $90\\%$ accuracy using only $2$ qubits, whereas the latter achieves only around $50\\%$ accuracy, using $4$ qubits and taking $3\\times$ as long. \n",
    "\n",
    "We first prepare the Wine dataset:"
   ]
  },
  {
   "cell_type": "code",
   "execution_count": 1,
   "metadata": {},
   "outputs": [],
   "source": [
    "import numpy as np\n",
    "from sklearn import datasets\n",
    "from sklearn.model_selection import train_test_split\n",
    "from sklearn.preprocessing import StandardScaler, MinMaxScaler\n",
    "from sklearn.decomposition import PCA\n",
    "\n",
    "\n",
    "def Wine(training_size, test_size, n):\n",
    "    class_labels = [r'A', r'B', r'C']\n",
    "\n",
    "    data, target = datasets.load_wine(True)\n",
    "    sample_train, sample_test, label_train, label_test = train_test_split(\n",
    "        data, target, test_size=test_size, random_state=7\n",
    "    )\n",
    "\n",
    "    # Now we standarize for gaussian around 0 with unit variance\n",
    "    std_scale = StandardScaler().fit(sample_train)\n",
    "    sample_train = std_scale.transform(sample_train)\n",
    "    sample_test = std_scale.transform(sample_test)\n",
    "\n",
    "    # Now reduce number of features to number of qubits\n",
    "    pca = PCA(n_components=n).fit(sample_train)\n",
    "    sample_train = pca.transform(sample_train)\n",
    "    sample_test = pca.transform(sample_test)\n",
    "\n",
    "    # Scale to the range (-1,+1)\n",
    "    samples = np.append(sample_train, sample_test, axis=0)\n",
    "    minmax_scale = MinMaxScaler((-1, 1)).fit(samples)\n",
    "    sample_train = minmax_scale.transform(sample_train)\n",
    "    sample_test = minmax_scale.transform(sample_test)\n",
    "    # Pick training size number of samples from each distro\n",
    "    training_input = {key: (sample_train[label_train == k, :])[:training_size] for k, key in enumerate(class_labels)}\n",
    "    test_input = {key: (sample_train[label_train == k, :])[training_size:(\n",
    "        training_size+test_size)] for k, key in enumerate(class_labels)}\n",
    "    return sample_train, training_input, test_input, class_labels"
   ]
  },
  {
   "cell_type": "markdown",
   "metadata": {},
   "source": [
    "We can then set up the experiment as follows:"
   ]
  },
  {
   "cell_type": "code",
   "execution_count": 2,
   "metadata": {},
   "outputs": [],
   "source": [
    "import numpy as np\n",
    "import scipy\n",
    "\n",
    "from qiskit import BasicAer\n",
    "from qiskit.aqua.input import ClassificationInput\n",
    "from qiskit.aqua import run_algorithm, QuantumInstance, aqua_globals\n",
    "from qiskit.aqua.components.optimizers import SPSA, COBYLA\n",
    "\n",
    "feature_dim = 4 # dimension of each data point\n",
    "training_dataset_size = 20\n",
    "testing_dataset_size = 10\n",
    "random_seed = 10598\n",
    "np.random.seed(random_seed)\n",
    "\n",
    "sample_Total, training_input, test_input, class_labels = Wine(\n",
    "    training_size=training_dataset_size,\n",
    "    test_size=testing_dataset_size,\n",
    "    n=feature_dim\n",
    ")\n",
    "\n",
    "classification_input = ClassificationInput(training_input, test_input)\n",
    "params = {\n",
    "    'problem': {'name': 'classification', 'random_seed': random_seed},\n",
    "    'algorithm': {'name': 'VQC'},\n",
    "    'backend': {'provider': 'qiskit.BasicAer', 'name': 'statevector_simulator'},\n",
    "    'optimizer': {'name': 'COBYLA', 'maxiter':200},\n",
    "    'variational_form': {'name': 'RYRZ', 'depth': 3},\n",
    "    'feature_map': {'name': None},\n",
    "}"
   ]
  },
  {
   "cell_type": "markdown",
   "metadata": {},
   "source": [
    "Let's try `RawFeatureVector` first:"
   ]
  },
  {
   "cell_type": "code",
   "execution_count": 3,
   "metadata": {},
   "outputs": [
    {
     "name": "stdout",
     "output_type": "stream",
     "text": [
      "VQC accuracy with RawFeatureVector:  0.8666666666666667\n"
     ]
    }
   ],
   "source": [
    "params['feature_map']['name'] = 'RawFeatureVector'\n",
    "result = run_algorithm(params, classification_input)\n",
    "print(\"VQC accuracy with RawFeatureVector: \", result['testing_accuracy'])"
   ]
  },
  {
   "cell_type": "markdown",
   "metadata": {},
   "source": [
    "Now let's try `SecondOrderExpansion`:"
   ]
  },
  {
   "cell_type": "code",
   "execution_count": 4,
   "metadata": {},
   "outputs": [
    {
     "name": "stdout",
     "output_type": "stream",
     "text": [
      "Test accuracy with SecondOrderExpansion:  0.5333333333333333\n"
     ]
    }
   ],
   "source": [
    "params['feature_map']['name'] = 'SecondOrderExpansion'\n",
    "result = run_algorithm(params, classification_input)\n",
    "print(\"Test accuracy with SecondOrderExpansion: \", result['testing_accuracy'])"
   ]
  }
 ],
 "metadata": {
  "kernelspec": {
   "display_name": "Python 3",
   "language": "python",
   "name": "python3"
  },
  "language_info": {
   "codemirror_mode": {
    "name": "ipython",
    "version": 3
   },
   "file_extension": ".py",
   "mimetype": "text/x-python",
   "name": "python",
   "nbconvert_exporter": "python",
   "pygments_lexer": "ipython3",
   "version": "3.7.2"
  }
 },
 "nbformat": 4,
 "nbformat_minor": 2
}
