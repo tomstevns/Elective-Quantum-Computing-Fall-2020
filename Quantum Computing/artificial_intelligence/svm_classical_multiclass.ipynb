{
 "cells": [
  {
   "cell_type": "markdown",
   "metadata": {},
   "source": [
    "##  _*SVM with a classical RBF kernel: multiclass classifier extension*_\n",
    "\n",
    "A multiclass extension works in conjunction with an underlying binary (two class) classifier to provide multiclass classification.\n",
    "\n",
    "Currently three different multiclass extensions are supported:\n",
    "\n",
    "* OneAgainstRest\n",
    "* AllPairs\n",
    "* ErrorCorrectingCode\n",
    "\n",
    "These use different techniques to group the data with binary classification to achieve the final multiclass classification."
   ]
  },
  {
   "cell_type": "code",
   "execution_count": 1,
   "metadata": {},
   "outputs": [],
   "source": [
    "from datasets import *\n",
    "from qiskit.aqua.utils import split_dataset_to_data_and_labels\n",
    "from qiskit.aqua.input import ClassificationInput\n",
    "from qiskit.aqua import run_algorithm\n",
    "import numpy as np"
   ]
  },
  {
   "cell_type": "markdown",
   "metadata": {},
   "source": [
    "Here we choose the `Wine` dataset which has 3 classes."
   ]
  },
  {
   "cell_type": "code",
   "execution_count": 2,
   "metadata": {},
   "outputs": [
    {
     "data": {
      "image/png": "[encoded data removed]",
      "text/plain": [
       "<Figure size 432x288 with 1 Axes>"
      ]
     },
     "metadata": {
      "needs_background": "light"
     },
     "output_type": "display_data"
    }
   ],
   "source": [
    "feature_dim = 2  # dimension of each data point\n",
    "sample_Total, training_input, test_input, class_labels = Wine(training_size=20,\n",
    "                                                              test_size=10, n=feature_dim, PLOT_DATA=True)\n",
    "\n",
    "temp = [test_input[k] for k in test_input]\n",
    "total_array = np.concatenate(temp)"
   ]
  },
  {
   "cell_type": "markdown",
   "metadata": {},
   "source": [
    "Now we setup an Aqua configuration dictionary to use the classical `SVM` algorithm and add a multiclass extension to classify the Wine data set, since it has 3 classes. We loop over the three extensions (modifying the params dictionary) to show the result with each."
   ]
  },
  {
   "cell_type": "code",
   "execution_count": 3,
   "metadata": {},
   "outputs": [
    {
     "name": "stdout",
     "output_type": "stream",
     "text": [
      "\n",
      "----- Using multiclass extension: 'OneAgainstRest' -----\n",
      "\n",
      "'testing_accuracy' : 1.0\n",
      "'test_success_ratio' : 1.0\n",
      "'predicted_labels' : [0 0 0 0 0 0 0 0 0 0 1 1 1 1 1 1 1 1 1 1 2 2 2 2 2 2 2 2 2 2]\n",
      "'predicted_classes' : ['A', 'A', 'A', 'A', 'A', 'A', 'A', 'A', 'A', 'A', 'B', 'B', 'B', 'B', 'B', 'B', 'B', 'B', 'B', 'B', 'C', 'C', 'C', 'C', 'C', 'C', 'C', 'C', 'C', 'C']\n",
      "\n",
      "----- Using multiclass extension: 'AllPairs' -----\n",
      "\n",
      "'testing_accuracy' : 1.0\n",
      "'test_success_ratio' : 1.0\n",
      "'predicted_labels' : [0 0 0 0 0 0 0 0 0 0 1 1 1 1 1 1 1 1 1 1 2 2 2 2 2 2 2 2 2 2]\n",
      "'predicted_classes' : ['A', 'A', 'A', 'A', 'A', 'A', 'A', 'A', 'A', 'A', 'B', 'B', 'B', 'B', 'B', 'B', 'B', 'B', 'B', 'B', 'C', 'C', 'C', 'C', 'C', 'C', 'C', 'C', 'C', 'C']\n",
      "\n",
      "----- Using multiclass extension: 'ErrorCorrectingCode' -----\n",
      "\n",
      "'testing_accuracy' : 1.0\n",
      "'test_success_ratio' : 1.0\n",
      "'predicted_labels' : [0 0 0 0 0 0 0 0 0 0 1 1 1 1 1 1 1 1 1 1 2 2 2 2 2 2 2 2 2 2]\n",
      "'predicted_classes' : ['A', 'A', 'A', 'A', 'A', 'A', 'A', 'A', 'A', 'A', 'B', 'B', 'B', 'B', 'B', 'B', 'B', 'B', 'B', 'B', 'C', 'C', 'C', 'C', 'C', 'C', 'C', 'C', 'C', 'C']\n"
     ]
    }
   ],
   "source": [
    "aqua_dict = {\n",
    "    'problem': {'name': 'classification'},\n",
    "    'algorithm': {\n",
    "        'name': 'SVM'\n",
    "    },\n",
    "    'multiclass_extension': {'name': 'OneAgainstRest'}\n",
    "}\n",
    "\n",
    "algo_input = ClassificationInput(training_input, test_input, total_array)\n",
    "\n",
    "extensions = [\n",
    "   {'name': 'OneAgainstRest'},\n",
    "   {'name': 'AllPairs'}, \n",
    "   {'name': 'ErrorCorrectingCode', 'code_size': 5}\n",
    "]\n",
    "\n",
    "for extension in extensions:\n",
    "    aqua_dict['multiclass_extension'] = extension\n",
    "    result = run_algorithm(aqua_dict, algo_input)\n",
    "    print(\"\\n----- Using multiclass extension: '{}' -----\\n\".format(extension['name']))\n",
    "    for k,v in result.items():\n",
    "        print(\"'{}' : {}\".format(k, v))\n"
   ]
  }
 ],
 "metadata": {
  "kernelspec": {
   "display_name": "Python 3",
   "language": "python",
   "name": "python3"
  },
  "language_info": {
   "codemirror_mode": {
    "name": "ipython",
    "version": 3
   },
   "file_extension": ".py",
   "mimetype": "text/x-python",
   "name": "python",
   "nbconvert_exporter": "python",
   "pygments_lexer": "ipython3",
   "version": "3.7.2"
  }
 },
 "nbformat": 4,
 "nbformat_minor": 2
}
