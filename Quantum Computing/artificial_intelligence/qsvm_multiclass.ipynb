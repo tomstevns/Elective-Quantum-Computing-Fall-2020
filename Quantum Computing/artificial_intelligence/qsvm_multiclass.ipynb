{
 "cells": [
  {
   "cell_type": "markdown",
   "metadata": {},
   "source": [
    "## _*Quantum SVM algorithm:  multiclass classifier extension*_\n",
    "\n",
    "A multiclass extension works in conjunction with an underlying binary (two class) classifier to provide multiclass classification.\n",
    "\n",
    "Currently three different multiclass extensions are supported:\n",
    "\n",
    "* OneAgainstRest\n",
    "* AllPairs\n",
    "* ErrorCorrectingCode\n",
    "\n",
    "These use different techniques to group the data with binary classification to achieve the final multiclass classification."
   ]
  },
  {
   "cell_type": "code",
   "execution_count": 1,
   "metadata": {},
   "outputs": [],
   "source": [
    "import numpy as np\n",
    "from datasets import *\n",
    "from qiskit import BasicAer\n",
    "from qiskit.aqua.input import ClassificationInput\n",
    "from qiskit.aqua import run_algorithm"
   ]
  },
  {
   "cell_type": "markdown",
   "metadata": {},
   "source": [
    "Here we choose the `Wine` dataset which has 3 classes."
   ]
  },
  {
   "cell_type": "code",
   "execution_count": 2,
   "metadata": {},
   "outputs": [
    {
     "data": {
      "image/png": "[encoded data removed]",
      "text/plain": [
       "<Figure size 432x288 with 1 Axes>"
      ]
     },
     "metadata": {
      "needs_background": "light"
     },
     "output_type": "display_data"
    }
   ],
   "source": [
    "n = 2  # dimension of each data point\n",
    "sample_Total, training_input, test_input, class_labels = Wine(\n",
    "    training_size=40,\n",
    "    test_size=10, n=n, PLOT_DATA=True\n",
    ")\n",
    "temp = [test_input[k] for k in test_input]\n",
    "total_array = np.concatenate(temp)"
   ]
  },
  {
   "cell_type": "markdown",
   "metadata": {},
   "source": [
    "Now we setup an Aqua configuration dictionary to use the quantum `QSVM` algorithm and add a multiclass extension to classify the Wine data set, since it has 3 classes.\n",
    "\n",
    "Although the `AllPairs` extension is used here in the example the following multiclass extensions would also work:\n",
    "\n",
    "    'multiclass_extension': {'name': 'OneAgainstRest'}\n",
    "    'multiclass_extension': {'name': 'ErrorCorrectingCode', 'code_size': 5}"
   ]
  },
  {
   "cell_type": "code",
   "execution_count": 3,
   "metadata": {},
   "outputs": [
    {
     "name": "stdout",
     "output_type": "stream",
     "text": [
      "'testing_accuracy' : 0.8260869565217391\n",
      "'test_success_ratio' : 0.8260869565217391\n",
      "'predicted_labels' : [0 0 0 0 0 0 1 0 0 0 2 2 1 1 1 0 1 1 1 1 2 2 2]\n",
      "'predicted_classes' : ['A', 'A', 'A', 'A', 'A', 'A', 'B', 'A', 'A', 'A', 'C', 'C', 'B', 'B', 'B', 'A', 'B', 'B', 'B', 'B', 'C', 'C', 'C']\n"
     ]
    }
   ],
   "source": [
    "aqua_dict = {\n",
    "    'problem': {'name': 'classification', 'random_seed': 10598},\n",
    "    'algorithm': {\n",
    "        'name': 'QSVM'\n",
    "    },\n",
    "    'feature_map': {'name': 'SecondOrderExpansion', 'depth': 2, 'entangler_map': [[0, 1]]},\n",
    "    'multiclass_extension': {'name': 'AllPairs'},\n",
    "    'backend': {'shots': 1024}\n",
    "}\n",
    "\n",
    "backend = BasicAer.get_backend('qasm_simulator')\n",
    "algo_input = ClassificationInput(training_input, test_input, total_array)\n",
    "result = run_algorithm(aqua_dict, algo_input, backend=backend)\n",
    "for k,v in result.items():\n",
    "    print(\"'{}' : {}\".format(k, v))\n"
   ]
  }
 ],
 "metadata": {
  "kernelspec": {
   "display_name": "Python 3",
   "language": "python",
   "name": "python3"
  },
  "language_info": {
   "codemirror_mode": {
    "name": "ipython",
    "version": 3
   },
   "file_extension": ".py",
   "mimetype": "text/x-python",
   "name": "python",
   "nbconvert_exporter": "python",
   "pygments_lexer": "ipython3",
   "version": "3.7.2"
  }
 },
 "nbformat": 4,
 "nbformat_minor": 2
}
